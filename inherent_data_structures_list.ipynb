{
 "cells": [
  {
   "cell_type": "markdown",
   "id": "96643691",
   "metadata": {},
   "source": [
    "<h1>Examples of Python inherent data structures </h1>\n",
    "\n",
    "\n",
    "\n"
   ]
  },
  {
   "cell_type": "code",
   "execution_count": 22,
   "id": "6d0b4ad8",
   "metadata": {},
   "outputs": [
    {
     "name": "stdout",
     "output_type": "stream",
     "text": [
      "['Cat', 'Dog', 'Ferret']\n"
     ]
    }
   ],
   "source": [
    "#List - a list is an ordered collection of items. In python, the data types of the elements in a single list can vary.\n",
    "#we define a list using square brackets [] (note...you may define an empty list and add items later)\n",
    "animals = [\"Cat\",\"Dog\",\"Ferret\"]\n",
    "print(animals)"
   ]
  },
  {
   "cell_type": "code",
   "execution_count": 23,
   "id": "08aea5a3",
   "metadata": {},
   "outputs": [
    {
     "name": "stdout",
     "output_type": "stream",
     "text": [
      "['Cat', 'Dog', 'Ferret', 'Moose']\n"
     ]
    }
   ],
   "source": [
    "#we can add items to the end of a list with the 'append' function\n",
    "animals.append(\"Moose\")\n",
    "print(animals)"
   ]
  },
  {
   "cell_type": "code",
   "execution_count": 24,
   "id": "23d55772",
   "metadata": {},
   "outputs": [
    {
     "name": "stdout",
     "output_type": "stream",
     "text": [
      "Cat\n"
     ]
    }
   ],
   "source": [
    "#we can access items by position (note... as with many computational structures, Lists are 0 indexed)\n",
    "print(animals[0])"
   ]
  },
  {
   "cell_type": "code",
   "execution_count": 25,
   "id": "89a48955",
   "metadata": {},
   "outputs": [
    {
     "name": "stdout",
     "output_type": "stream",
     "text": [
      "['Cat', 'Dog', 'Ferret', 'Moose']\n",
      "['Cat', 'Dog', 'Monkey', 'Ferret', 'Moose']\n"
     ]
    }
   ],
   "source": [
    "#we can insert an element into a particular position in list\n",
    "print(animals)\n",
    "animals.insert(2, \"Monkey\")\n",
    "print(animals)\n",
    "\n"
   ]
  },
  {
   "cell_type": "code",
   "execution_count": 26,
   "id": "3acd667a",
   "metadata": {},
   "outputs": [
    {
     "name": "stdout",
     "output_type": "stream",
     "text": [
      "['Cat', 'Dog', 'Monkey', 'Ferret', 'Moose']\n",
      "['Cat', 'Dog', 'Ferret', 'Moose']\n"
     ]
    }
   ],
   "source": [
    "#we can remove an element from a list using its index (remember, first item is indexed as 0 not 1)\n",
    "print(animals)\n",
    "del animals[2]\n",
    "print(animals)"
   ]
  },
  {
   "cell_type": "code",
   "execution_count": 28,
   "id": "ae4796cc",
   "metadata": {},
   "outputs": [
    {
     "name": "stdout",
     "output_type": "stream",
     "text": [
      "['Dog', 'Ferret']\n"
     ]
    }
   ],
   "source": [
    "#we can access \"slices\" of the list\n",
    "print(animals[1:3])"
   ]
  },
  {
   "cell_type": "code",
   "execution_count": null,
   "id": "03b8eb00",
   "metadata": {},
   "outputs": [],
   "source": []
  }
 ],
 "metadata": {
  "kernelspec": {
   "display_name": "Python 3 (ipykernel)",
   "language": "python",
   "name": "python3"
  },
  "language_info": {
   "codemirror_mode": {
    "name": "ipython",
    "version": 3
   },
   "file_extension": ".py",
   "mimetype": "text/x-python",
   "name": "python",
   "nbconvert_exporter": "python",
   "pygments_lexer": "ipython3",
   "version": "3.9.13"
  }
 },
 "nbformat": 4,
 "nbformat_minor": 5
}
