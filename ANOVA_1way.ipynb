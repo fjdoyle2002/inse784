{
 "cells": [
  {
   "cell_type": "code",
   "execution_count": 47,
   "id": "fe5ee944",
   "metadata": {},
   "outputs": [
    {
     "name": "stdout",
     "output_type": "stream",
     "text": [
      "F_onewayResult(statistic=4.0, pvalue=0.07871720116618075)\n"
     ]
    }
   ],
   "source": [
    "from scipy.stats import f_oneway\n",
    "from statsmodels.stats.multicomp import pairwise_tukeyhsd\n",
    "\n",
    "#scores from the three classes\n",
    "class_1 = [1,3,5]\n",
    "class_2 = [5,7,9]\n",
    "class_3 = [4,5,6]\n",
    "\n",
    "#Conduct the one-way ANOVA\n",
    "print(f_oneway(class_1, class_2, class_3))\n"
   ]
  },
  {
   "cell_type": "code",
   "execution_count": 48,
   "id": "80fe5455",
   "metadata": {},
   "outputs": [
    {
     "name": "stdout",
     "output_type": "stream",
     "text": [
      "F_onewayResult(statistic=27.995841285913606, pvalue=2.88995460267374e-08)\n"
     ]
    }
   ],
   "source": [
    "tool1_defects = [118, 78, 115, 134, 125, 134, 102, 103, 115, 115, 104, 94, 86, 132, 86]\n",
    "tool2_defects = [60, 84, 82, 85, 71, 55, 64, 66, 54]\n",
    "tool3_defects = [85, 82, 35, 85, 76, 42, 64, 85, 79, 62, 43, 84, 69, 75, 89, 75, 44, 42]\n",
    "#calculate the test statistic\n",
    "print(f_oneway(tool1_defects, tool2_defects, tool3_defects))\n"
   ]
  },
  {
   "cell_type": "code",
   "execution_count": 56,
   "id": "88e53199",
   "metadata": {},
   "outputs": [
    {
     "data": {
      "text/plain": [
       "[Text(0, 0, 'T1'), Text(1, 0, 'T2'), Text(2, 0, 'T3')]"
      ]
     },
     "execution_count": 56,
     "metadata": {},
     "output_type": "execute_result"
    },
    {
     "data": {
      "image/png": "[encoded data removed]",
      "text/plain": [
       "<Figure size 640x480 with 1 Axes>"
      ]
     },
     "metadata": {},
     "output_type": "display_data"
    }
   ],
   "source": [
    "import seaborn as sns\n",
    "fig = sns.boxplot(data = [tool1_defects, tool2_defects, tool3_defects])\n",
    "fig.set(ylabel='Defects', xlabel='Tool')\n",
    "fig.set_xticklabels(['T1','T2','T3'])"
   ]
  },
  {
   "cell_type": "code",
   "execution_count": 59,
   "id": "25e8c200",
   "metadata": {},
   "outputs": [
    {
     "name": "stdout",
     "output_type": "stream",
     "text": [
      "[118, 78, 115, 134, 125, 134, 102, 103, 115, 115, 104, 94, 86, 132, 86, 60, 84, 82, 85, 71, 55, 64, 66, 54, 85, 82, 35, 85, 76, 42, 64, 85, 79, 62, 43, 84, 69, 75, 89, 75, 44, 42]\n",
      "['tool_1', 'tool_1', 'tool_1', 'tool_1', 'tool_1', 'tool_1', 'tool_1', 'tool_1', 'tool_1', 'tool_1', 'tool_1', 'tool_1', 'tool_1', 'tool_1', 'tool_1', 'tool_2', 'tool_2', 'tool_2', 'tool_2', 'tool_2', 'tool_2', 'tool_2', 'tool_2', 'tool_2', 'tool_3', 'tool_3', 'tool_3', 'tool_3', 'tool_3', 'tool_3', 'tool_3', 'tool_3', 'tool_3', 'tool_3', 'tool_3', 'tool_3', 'tool_3', 'tool_3', 'tool_3', 'tool_3', 'tool_3', 'tool_3']\n"
     ]
    }
   ],
   "source": [
    "defects = []\n",
    "defects.extend(tool1_defects)\n",
    "defect_groups = []\n",
    "for obs in tool1_defects:\n",
    "    defect_groups.append('tool_1')\n",
    "\n",
    "defects.extend(tool2_defects)\n",
    "for obs in tool2_defects:\n",
    "    defect_groups.append('tool_2')\n",
    "\n",
    "defects.extend(tool3_defects)\n",
    "for obs in tool3_defects:\n",
    "    defect_groups.append('tool_3')\n",
    "\n",
    "print(defects)\n",
    "print(defect_groups)   \n",
    "\n",
    "    "
   ]
  },
  {
   "cell_type": "code",
   "execution_count": 58,
   "id": "7c6a8954",
   "metadata": {},
   "outputs": [
    {
     "name": "stdout",
     "output_type": "stream",
     "text": [
      " Multiple Comparison of Means - Tukey HSD, FWER=0.05  \n",
      "======================================================\n",
      "group1 group2 meandiff p-adj   lower    upper   reject\n",
      "------------------------------------------------------\n",
      "tool_1 tool_2    -40.4    0.0 -58.0396 -22.7604   True\n",
      "tool_1 tool_3 -41.8444    0.0 -56.4704 -27.2185   True\n",
      "tool_2 tool_3  -1.4444 0.9769 -18.5239   15.635  False\n",
      "------------------------------------------------------\n"
     ]
    }
   ],
   "source": [
    "tukey = pairwise_tukeyhsd(endog=defects, groups=defect_groups, alpha=0.05)\n",
    "print(tukey)"
   ]
  },
  {
   "cell_type": "code",
   "execution_count": null,
   "id": "046b40e7",
   "metadata": {},
   "outputs": [],
   "source": []
  }
 ],
 "metadata": {
  "kernelspec": {
   "display_name": "Python 3 (ipykernel)",
   "language": "python",
   "name": "python3"
  },
  "language_info": {
   "codemirror_mode": {
    "name": "ipython",
    "version": 3
   },
   "file_extension": ".py",
   "mimetype": "text/x-python",
   "name": "python",
   "nbconvert_exporter": "python",
   "pygments_lexer": "ipython3",
   "version": "3.11.5"
  }
 },
 "nbformat": 4,
 "nbformat_minor": 5
}
