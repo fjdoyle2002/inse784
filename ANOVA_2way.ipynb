{
 "cells": [
  {
   "cell_type": "code",
   "execution_count": 1,
   "id": "18971cd8",
   "metadata": {},
   "outputs": [],
   "source": [
    "import numpy as np\n",
    "import pandas as pd"
   ]
  },
  {
   "cell_type": "code",
   "execution_count": 2,
   "id": "bad6879f",
   "metadata": {},
   "outputs": [],
   "source": [
    "dataframe = pd.read_csv(\"./2way_data.csv\")"
   ]
  },
  {
   "cell_type": "code",
   "execution_count": 3,
   "id": "0b712ee8",
   "metadata": {},
   "outputs": [
    {
     "name": "stdout",
     "output_type": "stream",
     "text": [
      "                 df  sum_sq    mean_sq         F    PR(>F)\n",
      "C(Mfr)          1.0    32.0  32.000000  5.647059  0.034994\n",
      "C(Age)          2.0    93.0  46.500000  8.205882  0.005677\n",
      "C(Mfr):C(Age)   2.0     7.0   3.500000  0.617647  0.555502\n",
      "Residual       12.0    68.0   5.666667       NaN       NaN\n"
     ]
    }
   ],
   "source": [
    "# Importing libraries \n",
    "import statsmodels.api as sm \n",
    "from statsmodels.formula.api import ols \n",
    "  \n",
    "# Performing two-way ANOVA \n",
    "model = ols(\n",
    "    'Defects ~ C(Mfr) + C(Age) + C(Mfr):C(Age)', data=dataframe).fit() \n",
    "result = sm.stats.anova_lm(model, type=2) \n",
    "print(result)"
   ]
  },
  {
   "cell_type": "code",
   "execution_count": 4,
   "id": "a866b715",
   "metadata": {},
   "outputs": [],
   "source": [
    "from scipy.stats import f_oneway\n",
    "from statsmodels.stats.multicomp import pairwise_tukeyhsd"
   ]
  },
  {
   "cell_type": "code",
   "execution_count": 5,
   "id": "a432a8e7",
   "metadata": {},
   "outputs": [],
   "source": [
    "dataframe['combination'] = dataframe.Mfr + \" / \" + dataframe.Age\n",
    "m_comp = pairwise_tukeyhsd(endog=dataframe['Defects'], groups=dataframe['combination'], alpha=0.05)\n",
    "# coerce the tukeyhsd table to a DataFrame\n"
   ]
  },
  {
   "cell_type": "code",
   "execution_count": 6,
   "id": "f0a705b7",
   "metadata": {},
   "outputs": [
    {
     "data": {
      "text/html": [
       "<table class=\"simpletable\">\n",
       "<caption>Multiple Comparison of Means - Tukey HSD, FWER=0.05</caption>\n",
       "<tr>\n",
       "     <th>group1</th>        <th>group2</th>     <th>meandiff</th>  <th>p-adj</th>  <th>lower</th>   <th>upper</th>  <th>reject</th>\n",
       "</tr>\n",
       "<tr>\n",
       "  <td>M1 / Moderate</td>   <td>M1 / New</td>      <td>-1.0</td>   <td>0.9945</td> <td>-7.5286</td> <td>5.5286</td>   <td>False</td>\n",
       "</tr>\n",
       "<tr>\n",
       "  <td>M1 / Moderate</td>   <td>M1 / Old</td>       <td>3.0</td>   <td>0.6459</td> <td>-3.5286</td> <td>9.5286</td>   <td>False</td>\n",
       "</tr>\n",
       "<tr>\n",
       "  <td>M1 / Moderate</td> <td>M2 / Moderate</td>    <td>3.0</td>   <td>0.6459</td> <td>-3.5286</td> <td>9.5286</td>   <td>False</td>\n",
       "</tr>\n",
       "<tr>\n",
       "  <td>M1 / Moderate</td>   <td>M2 / New</td>       <td>0.0</td>     <td>1.0</td>  <td>-6.5286</td> <td>6.5286</td>   <td>False</td>\n",
       "</tr>\n",
       "<tr>\n",
       "  <td>M1 / Moderate</td>   <td>M2 / Old</td>       <td>7.0</td>   <td>0.0332</td> <td>0.4714</td>  <td>13.5286</td>  <td>True</td> \n",
       "</tr>\n",
       "<tr>\n",
       "    <td>M1 / New</td>      <td>M1 / Old</td>       <td>4.0</td>   <td>0.3676</td> <td>-2.5286</td> <td>10.5286</td>  <td>False</td>\n",
       "</tr>\n",
       "<tr>\n",
       "    <td>M1 / New</td>    <td>M2 / Moderate</td>    <td>4.0</td>   <td>0.3676</td> <td>-2.5286</td> <td>10.5286</td>  <td>False</td>\n",
       "</tr>\n",
       "<tr>\n",
       "    <td>M1 / New</td>      <td>M2 / New</td>       <td>1.0</td>   <td>0.9945</td> <td>-5.5286</td> <td>7.5286</td>   <td>False</td>\n",
       "</tr>\n",
       "<tr>\n",
       "    <td>M1 / New</td>      <td>M2 / Old</td>       <td>8.0</td>   <td>0.0139</td> <td>1.4714</td>  <td>14.5286</td>  <td>True</td> \n",
       "</tr>\n",
       "<tr>\n",
       "    <td>M1 / Old</td>    <td>M2 / Moderate</td>    <td>0.0</td>     <td>1.0</td>  <td>-6.5286</td> <td>6.5286</td>   <td>False</td>\n",
       "</tr>\n",
       "<tr>\n",
       "    <td>M1 / Old</td>      <td>M2 / New</td>      <td>-3.0</td>   <td>0.6459</td> <td>-9.5286</td> <td>3.5286</td>   <td>False</td>\n",
       "</tr>\n",
       "<tr>\n",
       "    <td>M1 / Old</td>      <td>M2 / Old</td>       <td>4.0</td>   <td>0.3676</td> <td>-2.5286</td> <td>10.5286</td>  <td>False</td>\n",
       "</tr>\n",
       "<tr>\n",
       "  <td>M2 / Moderate</td>   <td>M2 / New</td>      <td>-3.0</td>   <td>0.6459</td> <td>-9.5286</td> <td>3.5286</td>   <td>False</td>\n",
       "</tr>\n",
       "<tr>\n",
       "  <td>M2 / Moderate</td>   <td>M2 / Old</td>       <td>4.0</td>   <td>0.3676</td> <td>-2.5286</td> <td>10.5286</td>  <td>False</td>\n",
       "</tr>\n",
       "<tr>\n",
       "    <td>M2 / New</td>      <td>M2 / Old</td>       <td>7.0</td>   <td>0.0332</td> <td>0.4714</td>  <td>13.5286</td>  <td>True</td> \n",
       "</tr>\n",
       "</table>"
      ],
      "text/plain": [
       "<class 'statsmodels.iolib.table.SimpleTable'>"
      ]
     },
     "execution_count": 6,
     "metadata": {},
     "output_type": "execute_result"
    }
   ],
   "source": [
    "m_comp.summary()"
   ]
  }
 ],
 "metadata": {
  "kernelspec": {
   "display_name": "Python 3 (ipykernel)",
   "language": "python",
   "name": "python3"
  },
  "language_info": {
   "codemirror_mode": {
    "name": "ipython",
    "version": 3
   },
   "file_extension": ".py",
   "mimetype": "text/x-python",
   "name": "python",
   "nbconvert_exporter": "python",
   "pygments_lexer": "ipython3",
   "version": "3.11.5"
  }
 },
 "nbformat": 4,
 "nbformat_minor": 5
}
