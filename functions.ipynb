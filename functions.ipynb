{
 "cells": [
  {
   "cell_type": "markdown",
   "id": "96643691",
   "metadata": {},
   "source": [
    "<h1>Python functions </h1>\n",
    "<h3>The ability to define discrete portions of logic that accomplish particular tasks is a core\n",
    "aspect of creating usable programs. In Python (and many other languages), we call these blocks of \n",
    "code \"functions\". A function may accept data as \"arguments\" and may return a value to the calling code.\n",
    "    We use the <i>def</i> keyword to define a function.</h3>\n",
    "\n",
    "\n",
    "\n"
   ]
  },
  {
   "cell_type": "code",
   "execution_count": 1,
   "id": "72e09c57",
   "metadata": {},
   "outputs": [],
   "source": [
    "#an example of a function that does not accept or return data\n",
    "#executing this cell will not visibly do anything. It will \n",
    "#register the function with the interpreter so that it may be called in the next cell.\n",
    "def say_hello():\n",
    "    \"\"\"Display a greeting on the screen\"\"\"\n",
    "    print(\"Hello!\")\n"
   ]
  },
  {
   "cell_type": "code",
   "execution_count": 2,
   "id": "8ac2e975",
   "metadata": {},
   "outputs": [
    {
     "name": "stdout",
     "output_type": "stream",
     "text": [
      "Hello!\n"
     ]
    }
   ],
   "source": [
    "#we can call the previously defined function in another segment of code\n",
    "say_hello()"
   ]
  },
  {
   "cell_type": "code",
   "execution_count": 20,
   "id": "6d0b4ad8",
   "metadata": {},
   "outputs": [],
   "source": [
    "#here we define a function that can accept an argument, but provides a default value \n",
    "#so that the function may be called without providing one\n",
    "def say_personalized_hello(name='somebody'):\n",
    "    \"\"\"Display personalized greeting\"\"\"\n",
    "    print(\"Hello {}!\".format(name))\n",
    "            "
   ]
  },
  {
   "cell_type": "code",
   "execution_count": 21,
   "id": "08aea5a3",
   "metadata": {},
   "outputs": [
    {
     "name": "stdout",
     "output_type": "stream",
     "text": [
      "Hello Frank!\n"
     ]
    }
   ],
   "source": [
    "say_personalized_hello(\"Frank\")"
   ]
  },
  {
   "cell_type": "code",
   "execution_count": 22,
   "id": "ee0fc0b1",
   "metadata": {},
   "outputs": [
    {
     "name": "stdout",
     "output_type": "stream",
     "text": [
      "Hello somebody!\n"
     ]
    }
   ],
   "source": [
    "#because we specified a default value in the function definition, we can do this, otherwise we would get an error\n",
    "#for not providing a required argument\n",
    "say_personalized_hello()"
   ]
  },
  {
   "cell_type": "code",
   "execution_count": null,
   "id": "dd821c6f",
   "metadata": {},
   "outputs": [],
   "source": []
  }
 ],
 "metadata": {
  "kernelspec": {
   "display_name": "Python 3 (ipykernel)",
   "language": "python",
   "name": "python3"
  },
  "language_info": {
   "codemirror_mode": {
    "name": "ipython",
    "version": 3
   },
   "file_extension": ".py",
   "mimetype": "text/x-python",
   "name": "python",
   "nbconvert_exporter": "python",
   "pygments_lexer": "ipython3",
   "version": "3.9.13"
  }
 },
 "nbformat": 4,
 "nbformat_minor": 5
}
