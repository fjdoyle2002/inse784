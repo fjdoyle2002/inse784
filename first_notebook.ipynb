{
 "cells": [
  {
   "cell_type": "code",
   "execution_count": 1,
   "id": "274f9f4a",
   "metadata": {},
   "outputs": [
    {
     "data": {
      "text/plain": [
       "12"
      ]
     },
     "execution_count": 1,
     "metadata": {},
     "output_type": "execute_result"
    }
   ],
   "source": [
    "#comment lines(text that is ignored by the Python interpreter) can be inserted into code using a hashtag (\"#\")\n",
    "#a lone expression...\n",
    "#in an interactive python setting, the Python interpreter in the Jupyter environment can basically be used like a calculator\n",
    "3*(2+2)"
   ]
  },
  {
   "cell_type": "code",
   "execution_count": 1,
   "id": "ceb23dc5",
   "metadata": {},
   "outputs": [
    {
     "data": {
      "text/plain": [
       "8"
      ]
     },
     "execution_count": 1,
     "metadata": {},
     "output_type": "execute_result"
    }
   ],
   "source": [
    "#Jupyter cells will only output the last expression (or referenced variable)\n",
    "#For more complicated output, use the print() method\n",
    "3*(2+2)\n",
    "4*2"
   ]
  },
  {
   "cell_type": "code",
   "execution_count": 2,
   "id": "78294408",
   "metadata": {},
   "outputs": [
    {
     "name": "stdout",
     "output_type": "stream",
     "text": [
      "Hello World!\n"
     ]
    }
   ],
   "source": [
    "#printing a literal\n",
    "print(\"Hello World!\")"
   ]
  },
  {
   "cell_type": "code",
   "execution_count": 3,
   "id": "1c57c30e",
   "metadata": {},
   "outputs": [
    {
     "name": "stdout",
     "output_type": "stream",
     "text": [
      "Hello Frank, your result is 10\n"
     ]
    }
   ],
   "source": [
    "#defining string variables and including those variables into another string using format\n",
    "#where each {} is replaced by a specified variable in relative order\n",
    "name = 'Frank'\n",
    "result = 5*2\n",
    "print(\"Hello {}, your result is {}\".format(name, result))"
   ]
  },
  {
   "cell_type": "code",
   "execution_count": 4,
   "id": "77ffde8d",
   "metadata": {},
   "outputs": [
    {
     "name": "stdout",
     "output_type": "stream",
     "text": [
      "This string was defined using double \" and can contain ' without escapes... he didn't know\n",
      "This string was defined using ' and can contain \" without escapes... she said, \"Hi\"\n"
     ]
    }
   ],
   "source": [
    "#if we enclose the defined string with \"\" and the string itself is to contain a \", we have to use an escape \n",
    "#character (\\) so the interpreter knows it is not the end of the string\n",
    "#note that we are able to print multiple lines\n",
    "a_string_with_double_quotes = \"This string was defined using double \\\" and can contain ' without escapes... he didn't know\"\n",
    "a_string_with_single_quotes = 'This string was defined using \\' and can contain \" without escapes... she said, \"Hi\"'\n",
    "print(a_string_with_double_quotes)\n",
    "print(a_string_with_single_quotes)\n"
   ]
  },
  {
   "cell_type": "code",
   "execution_count": 5,
   "id": "36674be5",
   "metadata": {},
   "outputs": [
    {
     "name": "stdout",
     "output_type": "stream",
     "text": [
      "String one String two\n"
     ]
    }
   ],
   "source": [
    "#we can concatenate strings using the '+' operator\n",
    "string_1 = \"String one\"\n",
    "string_2 = \"String two\"\n",
    "new_string = string_1 + \" \" + string_2\n",
    "print(new_string)"
   ]
  },
  {
   "cell_type": "code",
   "execution_count": null,
   "id": "8bb5bd2d",
   "metadata": {},
   "outputs": [],
   "source": []
  }
 ],
 "metadata": {
  "kernelspec": {
   "display_name": "Python 3 (ipykernel)",
   "language": "python",
   "name": "python3"
  },
  "language_info": {
   "codemirror_mode": {
    "name": "ipython",
    "version": 3
   },
   "file_extension": ".py",
   "mimetype": "text/x-python",
   "name": "python",
   "nbconvert_exporter": "python",
   "pygments_lexer": "ipython3",
   "version": "3.9.13"
  }
 },
 "nbformat": 4,
 "nbformat_minor": 5
}
