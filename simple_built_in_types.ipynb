{
 "cells": [
  {
   "cell_type": "markdown",
   "id": "431215ee",
   "metadata": {},
   "source": [
    "<h1>Examples of simple built in types being assigned to variables</h1>\n",
    "Variable name rules:<br>\n",
    "    <span style=\"padding-left:2em\">A variable name must start with a letter or the underscore character<br>\n",
    "    <span style=\"padding-left:2em\">A variable name cannot start with a number<br>\n",
    "    <span style=\"padding-left:2em\">A variable name can only contain alpha-numeric characters and underscores (A-z, 0-9, and _ )<br>\n",
    "    <span style=\"padding-left:2em\">Variable names are case-sensitive (age, Age and AGE are three different variables)<br>\n",
    "    <span style=\"padding-left:2em\">A variable name cannot be any of the python keywords, including:<br>\n",
    "        <span style=\"padding-left:4em\"><b>and,as,assert,break,class,continue,def,del,elif,else,except,False,finally,for,from,global,if,import,<br>\n",
    "        <span style=\"padding-left:4em\">in,is,lambda,None,nonlocal,not,or,pass,raise,return,True,try,while,with,yield</b><br>\n",
    "\n",
    "\n",
    "\n",
    "\n"
   ]
  },
  {
   "cell_type": "code",
   "execution_count": 7,
   "id": "10370a01",
   "metadata": {},
   "outputs": [
    {
     "data": {
      "text/plain": [
       "int"
      ]
     },
     "execution_count": 7,
     "metadata": {},
     "output_type": "execute_result"
    }
   ],
   "source": [
    "#Python automatically determines the type of a variable based on how the assignment is made\n",
    "#if this was a 5.0 instead of 5, it would have made it a float\n",
    "number_of_pets = 5\n",
    "type(number_of_pets)"
   ]
  },
  {
   "cell_type": "code",
   "execution_count": 13,
   "id": "deb69e2e",
   "metadata": {},
   "outputs": [
    {
     "data": {
      "text/plain": [
       "float"
      ]
     },
     "execution_count": 13,
     "metadata": {},
     "output_type": "execute_result"
    }
   ],
   "source": [
    "#here we define a float by assigning a number with a decimal component\n",
    "combined_weight = 135.42\n",
    "type(combined_weight)"
   ]
  },
  {
   "cell_type": "code",
   "execution_count": 11,
   "id": "a78766e4",
   "metadata": {},
   "outputs": [
    {
     "data": {
      "text/plain": [
       "str"
      ]
     },
     "execution_count": 11,
     "metadata": {},
     "output_type": "execute_result"
    }
   ],
   "source": [
    "#we've already seen some strings earlier, but just to keep things complete...\n",
    "names_of_pets = \"Rex, Lassie, Socks, Tigger and Chumley\"\n",
    "type(names_of_pets)\n"
   ]
  },
  {
   "cell_type": "code",
   "execution_count": 12,
   "id": "0aa6d0e0",
   "metadata": {},
   "outputs": [
    {
     "data": {
      "text/plain": [
       "bool"
      ]
     },
     "execution_count": 12,
     "metadata": {},
     "output_type": "execute_result"
    }
   ],
   "source": [
    "#here we are assigning an expression that evaluates to a boolean\n",
    "#which is common during program execution. We could directly assign it the \n",
    "#boolean value True or False, which is typically done to initialize a variable\n",
    "truth_of_statement = (3>5)\n",
    "type(truth_of_statement)"
   ]
  },
  {
   "cell_type": "code",
   "execution_count": 18,
   "id": "f075e0ff",
   "metadata": {},
   "outputs": [
    {
     "name": "stdout",
     "output_type": "stream",
     "text": [
      "I have 5 pets named Rex, Lassie, Socks, Tigger and Chumley, and their combined weight is 135.42.This statement was False.\n"
     ]
    }
   ],
   "source": [
    "#note the '\\' (not within the string defining quotes) allows us to continue the code onto the next line\n",
    "print(\"I have {} pets named {}, and their combined weight is {}.\"\\\n",
    "      \"This statement was {}.\".format(number_of_pets, names_of_pets, combined_weight, truth_of_statement))"
   ]
  },
  {
   "cell_type": "code",
   "execution_count": null,
   "id": "fd96c0a8",
   "metadata": {},
   "outputs": [],
   "source": []
  }
 ],
 "metadata": {
  "kernelspec": {
   "display_name": "Python 3 (ipykernel)",
   "language": "python",
   "name": "python3"
  },
  "language_info": {
   "codemirror_mode": {
    "name": "ipython",
    "version": 3
   },
   "file_extension": ".py",
   "mimetype": "text/x-python",
   "name": "python",
   "nbconvert_exporter": "python",
   "pygments_lexer": "ipython3",
   "version": "3.9.13"
  }
 },
 "nbformat": 4,
 "nbformat_minor": 5
}
