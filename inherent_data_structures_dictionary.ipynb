{
 "cells": [
  {
   "cell_type": "markdown",
   "id": "96643691",
   "metadata": {},
   "source": [
    "<h1>Examples of Python inherent data structures </h1>\n",
    "\n",
    "\n",
    "\n"
   ]
  },
  {
   "cell_type": "code",
   "execution_count": 1,
   "id": "6d0b4ad8",
   "metadata": {},
   "outputs": [
    {
     "name": "stdout",
     "output_type": "stream",
     "text": [
      "{'height': \"5'8\", 'age': 51, 'eyecolor': 'brown'}\n"
     ]
    }
   ],
   "source": [
    "#Dictionary - a Dictionary is set of \"key:value\" pairs. Using the key, you can quickly access a corresponding value.\n",
    "#we define a dictionary using curly brackets {} and : to separate keys from their values\n",
    "#(note...you may define an empty dictionary and add items later)\n",
    "qualities = {\"height\":\"5'8\",\"age\":51,\"eyecolor\":\"brown\"}\n",
    "print(qualities)"
   ]
  },
  {
   "cell_type": "code",
   "execution_count": 4,
   "id": "d57a1bb1",
   "metadata": {},
   "outputs": [
    {
     "name": "stdout",
     "output_type": "stream",
     "text": [
      "{'height': \"5'8\", 'age': 52, 'eyecolor': 'brown', 'social_security_num': '089-21-1234'}\n"
     ]
    }
   ],
   "source": [
    "#we can add pairs to an existing dictionary by assignment\n",
    "qualities[\"social_security_num\"] = \"089-21-1234\"\n",
    "print(qualities)"
   ]
  },
  {
   "cell_type": "code",
   "execution_count": 3,
   "id": "03b8eb00",
   "metadata": {},
   "outputs": [
    {
     "name": "stdout",
     "output_type": "stream",
     "text": [
      "51\n",
      "52\n"
     ]
    }
   ],
   "source": [
    "#a key can only have one value. if we assign a value to a key, we overwrite any pre-existing value\n",
    "#lets add a year to the age\n",
    "print(qualities[\"age\"])\n",
    "qualities[\"age\"] = qualities[\"age\"]+1 #expression on right side is evaluated before assignment\n",
    "print(qualities[\"age\"])"
   ]
  },
  {
   "cell_type": "code",
   "execution_count": 9,
   "id": "fc98eb34",
   "metadata": {},
   "outputs": [
    {
     "name": "stdout",
     "output_type": "stream",
     "text": [
      "dict_keys(['height', 'age', 'eyecolor', 'social_security_num'])\n"
     ]
    }
   ],
   "source": [
    "#\"keys\" method will return all keys in the dictionary\n",
    "print(qualities.keys())"
   ]
  },
  {
   "cell_type": "code",
   "execution_count": 12,
   "id": "f08bde22",
   "metadata": {},
   "outputs": [
    {
     "name": "stdout",
     "output_type": "stream",
     "text": [
      "Mood is a defined quality: False\n",
      "Height is a defined quality: True\n"
     ]
    }
   ],
   "source": [
    "#we can check if a specified key exists\n",
    "has_specified = \"mood\" in qualities.keys()\n",
    "print(\"Mood is a defined quality: {}\".format(has_specified))\n",
    "has_specified = \"height\" in qualities.keys()\n",
    "print(\"Height is a defined quality: {}\".format(has_specified))"
   ]
  },
  {
   "cell_type": "code",
   "execution_count": null,
   "id": "bf1a3039",
   "metadata": {},
   "outputs": [],
   "source": []
  }
 ],
 "metadata": {
  "kernelspec": {
   "display_name": "Python 3 (ipykernel)",
   "language": "python",
   "name": "python3"
  },
  "language_info": {
   "codemirror_mode": {
    "name": "ipython",
    "version": 3
   },
   "file_extension": ".py",
   "mimetype": "text/x-python",
   "name": "python",
   "nbconvert_exporter": "python",
   "pygments_lexer": "ipython3",
   "version": "3.9.13"
  }
 },
 "nbformat": 4,
 "nbformat_minor": 5
}
