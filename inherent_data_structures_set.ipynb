{
 "cells": [
  {
   "cell_type": "markdown",
   "id": "96643691",
   "metadata": {},
   "source": [
    "<h1>Examples of Python inherent data structures </h1>\n",
    "\n",
    "\n",
    "\n"
   ]
  },
  {
   "cell_type": "code",
   "execution_count": 7,
   "id": "6d0b4ad8",
   "metadata": {},
   "outputs": [
    {
     "name": "stdout",
     "output_type": "stream",
     "text": [
      "{'Apaloosa', 'Mustang', 'Clydesdale'}\n"
     ]
    }
   ],
   "source": [
    "#Set - a Set is a collection of unique entries. It can not contain duplicates. \n",
    "#we define a set using  using curly brackets {} or with the \"set()\" function\n",
    "#(note...you may define an empty set and add items later, but use the set() function to do this not curly brackets, \n",
    "#which will create an empty dictionary)\n",
    "horse_types = set([\"Apaloosa\", \"Mustang\", \"Clydesdale\"])\n",
    "print(horse_types)"
   ]
  },
  {
   "cell_type": "code",
   "execution_count": 8,
   "id": "cc8de640",
   "metadata": {},
   "outputs": [
    {
     "name": "stdout",
     "output_type": "stream",
     "text": [
      "{'Mustang', 'Sonata', 'Charger', 'Camaro'}\n"
     ]
    }
   ],
   "source": [
    "#we will use the bracket approach to define this set\n",
    "car_models = {\"Camaro\", \"Sonata\", \"Charger\", \"Mustang\"}\n",
    "print(car_models)"
   ]
  },
  {
   "cell_type": "code",
   "execution_count": 9,
   "id": "bfe5500f",
   "metadata": {},
   "outputs": [
    {
     "name": "stdout",
     "output_type": "stream",
     "text": [
      "{'Mustang', 'Clydesdale', 'Camaro', 'Apaloosa', 'Sonata', 'Charger'}\n"
     ]
    }
   ],
   "source": [
    "#we can use Python Sets to do set logic such as a union\n",
    "print(horse_types.union(car_models))"
   ]
  },
  {
   "cell_type": "code",
   "execution_count": 10,
   "id": "c30d1984",
   "metadata": {},
   "outputs": [
    {
     "name": "stdout",
     "output_type": "stream",
     "text": [
      "{'Mustang'}\n"
     ]
    }
   ],
   "source": [
    "#or an intersection\n",
    "print(horse_types.intersection(car_models))"
   ]
  },
  {
   "cell_type": "code",
   "execution_count": 11,
   "id": "dde6fa0f",
   "metadata": {},
   "outputs": [
    {
     "name": "stdout",
     "output_type": "stream",
     "text": [
      "{'Camaro', 'Apaloosa', 'Clydesdale', 'Sonata', 'Charger'}\n"
     ]
    }
   ],
   "source": [
    "#or finding the difference\n",
    "print(horse_types.symmetric_difference(car_models))"
   ]
  },
  {
   "cell_type": "code",
   "execution_count": 14,
   "id": "9a93a61b",
   "metadata": {},
   "outputs": [
    {
     "name": "stdout",
     "output_type": "stream",
     "text": [
      "Mustang was in both sets: True\n",
      "Apaloosa was in both sets: False\n"
     ]
    }
   ],
   "source": [
    "#or use these to do boolean logic...\n",
    "in_both_sets = \"Mustang\" in horse_types.intersection(car_models)\n",
    "print(\"Mustang was in both sets: {}\".format(in_both_sets))\n",
    "in_both_sets = \"Apaloosa\" in horse_types.intersection(car_models)\n",
    "print(\"Apaloosa was in both sets: {}\".format(in_both_sets))"
   ]
  },
  {
   "cell_type": "code",
   "execution_count": null,
   "id": "a965dc0b",
   "metadata": {},
   "outputs": [],
   "source": []
  }
 ],
 "metadata": {
  "kernelspec": {
   "display_name": "Python 3 (ipykernel)",
   "language": "python",
   "name": "python3"
  },
  "language_info": {
   "codemirror_mode": {
    "name": "ipython",
    "version": 3
   },
   "file_extension": ".py",
   "mimetype": "text/x-python",
   "name": "python",
   "nbconvert_exporter": "python",
   "pygments_lexer": "ipython3",
   "version": "3.9.13"
  }
 },
 "nbformat": 4,
 "nbformat_minor": 5
}
