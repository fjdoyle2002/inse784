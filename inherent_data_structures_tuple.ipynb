{
 "cells": [
  {
   "cell_type": "markdown",
   "id": "96643691",
   "metadata": {},
   "source": [
    "<h1>Examples of Python inherent data structures </h1>\n",
    "\n",
    "\n",
    "\n"
   ]
  },
  {
   "cell_type": "code",
   "execution_count": 15,
   "id": "6d0b4ad8",
   "metadata": {},
   "outputs": [
    {
     "name": "stdout",
     "output_type": "stream",
     "text": [
      "(10.0, 20.0, 35)\n"
     ]
    },
    {
     "data": {
      "text/plain": [
       "tuple"
      ]
     },
     "execution_count": 15,
     "metadata": {},
     "output_type": "execute_result"
    }
   ],
   "source": [
    "#Tuple - a Tuple is an ordered collection of items similar to a List, the main difference is that a Tuple is immutable. \n",
    "#You can not change it in content or order once it has been created.\n",
    "#we define a Tuple using parantheses () \n",
    "dimensions = (10.0, 20.0, 35)\n",
    "print(dimensions)\n",
    "type(dimensions)"
   ]
  },
  {
   "cell_type": "code",
   "execution_count": 16,
   "id": "23d55772",
   "metadata": {},
   "outputs": [
    {
     "name": "stdout",
     "output_type": "stream",
     "text": [
      "20.0\n"
     ]
    }
   ],
   "source": [
    "#we can access items by position (note... similar to Lists, Tuples are 0 indexed)\n",
    "print(dimensions[1])"
   ]
  },
  {
   "cell_type": "code",
   "execution_count": 17,
   "id": "ae4796cc",
   "metadata": {},
   "outputs": [
    {
     "name": "stdout",
     "output_type": "stream",
     "text": [
      "(10.0, 20.0)\n"
     ]
    }
   ],
   "source": [
    "#we can access \"slices\" of the Tuple as we do with a List. \n",
    "print(dimensions[:2])"
   ]
  },
  {
   "cell_type": "code",
   "execution_count": 18,
   "id": "03b8eb00",
   "metadata": {},
   "outputs": [
    {
     "name": "stdout",
     "output_type": "stream",
     "text": [
      "(15.0, 20.0, 35)\n"
     ]
    }
   ],
   "source": [
    "#If we need to change something about a Tuple, we need to create a new one, e.g.:\n",
    "dimensions = (15.0, 20.0, 35)\n",
    "print(dimensions)"
   ]
  },
  {
   "cell_type": "code",
   "execution_count": null,
   "id": "043ae7b9",
   "metadata": {},
   "outputs": [],
   "source": []
  }
 ],
 "metadata": {
  "kernelspec": {
   "display_name": "Python 3 (ipykernel)",
   "language": "python",
   "name": "python3"
  },
  "language_info": {
   "codemirror_mode": {
    "name": "ipython",
    "version": 3
   },
   "file_extension": ".py",
   "mimetype": "text/x-python",
   "name": "python",
   "nbconvert_exporter": "python",
   "pygments_lexer": "ipython3",
   "version": "3.9.13"
  }
 },
 "nbformat": 4,
 "nbformat_minor": 5
}
