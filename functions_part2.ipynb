{
 "cells": [
  {
   "cell_type": "markdown",
   "id": "96643691",
   "metadata": {},
   "source": [
    "<h1>Python functions - continued</h1>\n",
    "<h3>Functions, as stated, may return a value to the calling code</h3>\n",
    "\n",
    "\n",
    "\n"
   ]
  },
  {
   "cell_type": "code",
   "execution_count": 3,
   "id": "72e09c57",
   "metadata": {},
   "outputs": [],
   "source": [
    "import math\n",
    "#an example of a function that takes an argument and returns a value\n",
    "def get_area_of_circle(radius):\n",
    "    \"\"\"Calculate the area of a circle based on provided radius\"\"\"\n",
    "    area = math.pi*(radius**2)\n",
    "    return area\n"
   ]
  },
  {
   "cell_type": "code",
   "execution_count": 9,
   "id": "3b4a3926",
   "metadata": {},
   "outputs": [
    {
     "name": "stdout",
     "output_type": "stream",
     "text": [
      "The area of a circle with radius 2 is 12.566370614359172\n"
     ]
    }
   ],
   "source": [
    "my_radius = 2\n",
    "area_of_my_circle = get_area_of_circle(my_radius)\n",
    "print(\"The area of a circle with radius {} is {}\".format(my_radius,area_of_my_circle))"
   ]
  },
  {
   "cell_type": "code",
   "execution_count": 8,
   "id": "f6e78e74",
   "metadata": {},
   "outputs": [
    {
     "ename": "TypeError",
     "evalue": "get_area_of_circle() missing 1 required positional argument: 'radius'",
     "output_type": "error",
     "traceback": [
      "\u001b[1;31m---------------------------------------------------------------------------\u001b[0m",
      "\u001b[1;31mTypeError\u001b[0m                                 Traceback (most recent call last)",
      "\u001b[1;32m~\\AppData\\Local\\Temp\\ipykernel_10272\\114512719.py\u001b[0m in \u001b[0;36m<module>\u001b[1;34m\u001b[0m\n\u001b[0;32m      1\u001b[0m \u001b[1;31m#note the error when we do not provide an expected argument that has no default\u001b[0m\u001b[1;33m\u001b[0m\u001b[1;33m\u001b[0m\u001b[0m\n\u001b[1;32m----> 2\u001b[1;33m \u001b[0marea_of_undefined_circle\u001b[0m \u001b[1;33m=\u001b[0m \u001b[0mget_area_of_circle\u001b[0m\u001b[1;33m(\u001b[0m\u001b[1;33m)\u001b[0m\u001b[1;33m\u001b[0m\u001b[1;33m\u001b[0m\u001b[0m\n\u001b[0m",
      "\u001b[1;31mTypeError\u001b[0m: get_area_of_circle() missing 1 required positional argument: 'radius'"
     ]
    }
   ],
   "source": [
    "#note the error when we do not provide an expected argument that has no default\n",
    "area_of_undefined_circle = get_area_of_circle() "
   ]
  },
  {
   "cell_type": "code",
   "execution_count": null,
   "id": "5f8c7841",
   "metadata": {},
   "outputs": [],
   "source": []
  }
 ],
 "metadata": {
  "kernelspec": {
   "display_name": "Python 3 (ipykernel)",
   "language": "python",
   "name": "python3"
  },
  "language_info": {
   "codemirror_mode": {
    "name": "ipython",
    "version": 3
   },
   "file_extension": ".py",
   "mimetype": "text/x-python",
   "name": "python",
   "nbconvert_exporter": "python",
   "pygments_lexer": "ipython3",
   "version": "3.9.13"
  }
 },
 "nbformat": 4,
 "nbformat_minor": 5
}
